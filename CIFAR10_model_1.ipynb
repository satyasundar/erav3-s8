{
  "cells": [
    {
      "cell_type": "markdown",
      "metadata": {
        "id": "view-in-github",
        "colab_type": "text"
      },
      "source": [
        "<a href=\"https://colab.research.google.com/github/satyasundar/erav3-s8/blob/main/CIFAR10_model_1.ipynb\" target=\"_parent\"><img src=\"https://colab.research.google.com/assets/colab-badge.svg\" alt=\"Open In Colab\"/></a>"
      ]
    },
    {
      "cell_type": "code",
      "execution_count": 9,
      "metadata": {
        "id": "vX4JllxzOa-j"
      },
      "outputs": [],
      "source": [
        "import torch\n",
        "import torch.nn as nn\n",
        "import torch.nn.functional as F\n",
        "import torch.optim as optim\n",
        "from torchvision import datasets, transforms\n",
        "from prettytable import PrettyTable\n",
        "\n",
        "import albumentations as A\n",
        "from albumentations.pytorch import ToTensorV2\n",
        "from torchvision.datasets import CIFAR10\n",
        "import numpy as np\n",
        "from torch.utils.data import DataLoader"
      ]
    },
    {
      "cell_type": "code",
      "execution_count": 16,
      "metadata": {
        "colab": {
          "base_uri": "https://localhost:8080/"
        },
        "id": "DiIXRe_gA1kd",
        "outputId": "be616f10-c0cb-4be0-eff3-a960b678e3e7"
      },
      "outputs": [
        {
          "output_type": "stream",
          "name": "stdout",
          "text": [
            "Files already downloaded and verified\n",
            "Files already downloaded and verified\n"
          ]
        }
      ],
      "source": [
        "\n",
        "\n",
        "mean = [0.4914, 0.4822, 0.4465]\n",
        "std = [0.2470, 0.2435, 0.2616]\n",
        "\n",
        "train_transforms = A.Compose([\n",
        "    A.HorizontalFlip(p=0.5),\n",
        "    A.ShiftScaleRotate(shift_limit=0.0625, scale_limit=0.1, rotate_limit=15, p=0.1),\n",
        "    #A.RandomBrightnessContrast(p=0.2),\n",
        "    A.CoarseDropout(max_holes = 1, max_height=16, max_width=16, min_holes = 1, min_height=16, min_width=16, fill_value=(0.4914, 0.4822, 0.4465), mask_fill_value = None, p=0.1),\n",
        "    A.Normalize(mean=(0.5, 0.5, 0.5), std=(0.5, 0.5, 0.5)),\n",
        "    ToTensorV2()\n",
        "])\n",
        "\n",
        "test_transforms = A.Compose([\n",
        "    A.Normalize(mean=(0.5, 0.5, 0.5), std=(0.5, 0.5, 0.5)),\n",
        "    ToTensorV2(),\n",
        "])\n",
        "\n",
        "\n",
        "\n",
        "class AugDataset(CIFAR10):\n",
        "    def __init__(self, root=\"./data\", train=True, download=True, transform=None):\n",
        "        super().__init__(root=root, train=train, download=download, transform=transform)\n",
        "\n",
        "    def __getitem__(self, index):\n",
        "        image, label = self.data[index], self.targets[index]\n",
        "\n",
        "        if self.transform is not None:\n",
        "            transformed = self.transform(image=image)\n",
        "            image = transformed[\"image\"]\n",
        "\n",
        "        return image, label\n",
        "\n",
        "train = AugDataset(root='./data', train=True, download=True, transform=train_transforms)\n",
        "test = AugDataset(root='./data', train=False, download=True, transform=test_transforms)\n",
        "\n",
        "# Create DataLoader\n",
        "# train_loader = DataLoader(train_dataset, batch_size=64, shuffle=True)\n",
        "# test_loader = DataLoader(test_dataset, batch_size=64, shuffle=False)"
      ]
    },
    {
      "cell_type": "code",
      "execution_count": null,
      "metadata": {
        "id": "cb8E1CCWOa-k"
      },
      "outputs": [],
      "source": [
        "# # mean = [0.4914, 0.4822, 0.4465]\n",
        "# # std = [0.2470, 0.2435, 0.2616]\n",
        "# mean = [0.5, 0.5, 0.5]\n",
        "# std = [0.5, 0.5, 0.5]\n",
        "\n",
        "# train_transforms = transforms.Compose([\n",
        "#                                         # transforms.RandomHorizontalFlip(),\n",
        "#                                         # transforms.RandomCrop(32, padding=4),\n",
        "#                                         # transforms.ColorJitter(brightness=0.2, contrast=0.2, saturation=0.2, hue=0.2),\n",
        "#                                         # transforms.RandomErasing(),\n",
        "#                                         transforms.ToTensor(),\n",
        "#                                         transforms.Normalize(mean=mean, std=std)\n",
        "#                                        ])\n",
        "\n",
        "\n",
        "# test_transforms = transforms.Compose([\n",
        "#                                        transforms.ToTensor(),\n",
        "#                                        transforms.Normalize(mean=mean, std=std)\n",
        "#                                        ])"
      ]
    },
    {
      "cell_type": "code",
      "execution_count": null,
      "metadata": {
        "id": "anZS-usFOa-k"
      },
      "outputs": [],
      "source": [
        "# train = datasets.CIFAR10('./data', train=True, download=True, transform=train_transforms)\n",
        "# test = datasets.CIFAR10('./data', train=False, download=True, transform=test_transforms)"
      ]
    },
    {
      "cell_type": "code",
      "execution_count": null,
      "metadata": {
        "colab": {
          "base_uri": "https://localhost:8080/"
        },
        "id": "UHgfX0IIOa-l",
        "outputId": "f564f577-d30e-4641-8077-cf1ab71cddef"
      },
      "outputs": [
        {
          "name": "stdout",
          "output_type": "stream",
          "text": [
            "mean:  120.70756512369792\n",
            "formatted mean tensor([-0.1407, -0.1542, -0.2165])\n",
            "formatted std tensor([0.5673, 0.5593, 0.5747])\n"
          ]
        }
      ],
      "source": [
        "\n",
        "print(\"mean: \", train.data.mean())\n",
        "sample, label = train[0]\n",
        "loader = torch.utils.data.DataLoader(train, batch_size=len(train))\n",
        "data, label = next(iter(loader))\n",
        "print(\"formatted mean\", data.mean(dim = [0,2,3]))\n",
        "print(\"formatted std\", data.std(dim = [0, 2, 3]))\n"
      ]
    },
    {
      "cell_type": "code",
      "execution_count": 17,
      "metadata": {
        "colab": {
          "base_uri": "https://localhost:8080/"
        },
        "id": "m-5_ZctIOa-l",
        "outputId": "446dec76-ac62-45a9-eba2-c9030f9eb4f9"
      },
      "outputs": [
        {
          "output_type": "stream",
          "name": "stdout",
          "text": [
            "GPU Available? cuda\n"
          ]
        }
      ],
      "source": [
        "SEED = 2\n",
        "\n",
        "# CUDA?\n",
        "device = torch.device(\"mps\" if torch.backends.mps.is_available() else \"cuda\" if torch.cuda.is_available() else \"cpu\")\n",
        "cuda = torch.cuda.is_available()\n",
        "print(\"GPU Available?\", device)\n",
        "\n",
        "# For reproducibility\n",
        "torch.manual_seed(SEED)\n",
        "\n",
        "if device == \"cuda\":\n",
        "    torch.cuda.manual_seed(SEED)\n",
        "\n",
        "# dataloader arguments - something you'll fetch these from cmdprmt\n",
        "dataloader_args = dict(shuffle=True, batch_size=128, num_workers=4, pin_memory=True) if cuda else dict(shuffle=True, batch_size=128)\n",
        "\n",
        "# train dataloader\n",
        "train_loader = torch.utils.data.DataLoader(train, **dataloader_args)\n",
        "\n",
        "# test dataloader\n",
        "test_loader = torch.utils.data.DataLoader(test, **dataloader_args)\n",
        "\n",
        "# Pretty table for collecting all the accuracy and loss parameters in a table\n",
        "log_table = PrettyTable()"
      ]
    },
    {
      "cell_type": "code",
      "execution_count": null,
      "metadata": {
        "colab": {
          "base_uri": "https://localhost:8080/"
        },
        "id": "AtuvDWMaOa-m",
        "outputId": "f2e5da84-8911-4bc4-b41d-688718ffe6de"
      },
      "outputs": [
        {
          "name": "stdout",
          "output_type": "stream",
          "text": [
            "number of training samples : 50000\n",
            "number of training samples : 10000\n",
            "number of classes : ['airplane', 'automobile', 'bird', 'cat', 'deer', 'dog', 'frog', 'horse', 'ship', 'truck']\n"
          ]
        }
      ],
      "source": [
        "print(f\"number of training samples : {len(train)}\")\n",
        "print(f\"number of training samples : {len(test)}\")\n",
        "print(f\"number of classes : {train.classes}\")"
      ]
    },
    {
      "cell_type": "code",
      "execution_count": null,
      "metadata": {
        "colab": {
          "base_uri": "https://localhost:8080/",
          "height": 1000
        },
        "id": "k_zfu4h6Oa-m",
        "outputId": "2593b5ba-aed7-4357-bf5a-4edc234aa105"
      },
      "outputs": [
        {
          "name": "stderr",
          "output_type": "stream",
          "text": [
            "Clipping input data to the valid range for imshow with RGB data ([0..1] for floats or [0..255] for integers).\n",
            "Clipping input data to the valid range for imshow with RGB data ([0..1] for floats or [0..255] for integers).\n",
            "Clipping input data to the valid range for imshow with RGB data ([0..1] for floats or [0..255] for integers).\n",
            "Clipping input data to the valid range for imshow with RGB data ([0..1] for floats or [0..255] for integers).\n",
            "Clipping input data to the valid range for imshow with RGB data ([0..1] for floats or [0..255] for integers).\n",
            "Clipping input data to the valid range for imshow with RGB data ([0..1] for floats or [0..255] for integers).\n",
            "Clipping input data to the valid range for imshow with RGB data ([0..1] for floats or [0..255] for integers).\n",
            "Clipping input data to the valid range for imshow with RGB data ([0..1] for floats or [0..255] for integers).\n",
            "Clipping input data to the valid range for imshow with RGB data ([0..1] for floats or [0..255] for integers).\n",
            "Clipping input data to the valid range for imshow with RGB data ([0..1] for floats or [0..255] for integers).\n",
            "Clipping input data to the valid range for imshow with RGB data ([0..1] for floats or [0..255] for integers).\n",
            "Clipping input data to the valid range for imshow with RGB data ([0..1] for floats or [0..255] for integers).\n",
            "Clipping input data to the valid range for imshow with RGB data ([0..1] for floats or [0..255] for integers).\n",
            "Clipping input data to the valid range for imshow with RGB data ([0..1] for floats or [0..255] for integers).\n",
            "Clipping input data to the valid range for imshow with RGB data ([0..1] for floats or [0..255] for integers).\n",
            "Clipping input data to the valid range for imshow with RGB data ([0..1] for floats or [0..255] for integers).\n"
          ]
        },
        {
          "data": {
            "image/png": "[encoded data removed]",
            "text/plain": [
              "<Figure size 800x800 with 16 Axes>"
            ]
          },
          "metadata": {},
          "output_type": "display_data"
        }
      ],
      "source": [
        "import numpy as np\n",
        "import matplotlib.pyplot as plt\n",
        "\n",
        "# Function to display a grid of images\n",
        "def show_images(dataset, num_images=16):\n",
        "    fig, axes = plt.subplots(4, 4, figsize=(8, 8))\n",
        "    axes = axes.ravel()\n",
        "    for i in range(num_images):\n",
        "        index = np.random.randint(0, len(dataset))\n",
        "        image, label = dataset[index]\n",
        "        axes[i].imshow(np.transpose(image.numpy(), (1, 2, 0)))  # Convert from Tensor to NumPy\n",
        "        axes[i].set_title(dataset.classes[label])\n",
        "        axes[i].axis('off')\n",
        "    plt.tight_layout()\n",
        "    plt.show()\n",
        "\n",
        "# Display sample training images\n",
        "show_images(train)"
      ]
    },
    {
      "cell_type": "code",
      "execution_count": null,
      "metadata": {
        "colab": {
          "base_uri": "https://localhost:8080/"
        },
        "id": "WMkZSN86Oa-m",
        "outputId": "e368a961-4214-4619-a0e6-1bcf1f7dc38e"
      },
      "outputs": [
        {
          "name": "stdout",
          "output_type": "stream",
          "text": [
            "Image Shape: torch.Size([3, 32, 32])\n",
            "Label : 6 (frog)\n"
          ]
        }
      ],
      "source": [
        "image, label = train[0]\n",
        "print(f\"Image Shape: {image.shape}\")\n",
        "print(f\"Label : {label} ({train.classes[label]})\")"
      ]
    },
    {
      "cell_type": "code",
      "execution_count": null,
      "metadata": {
        "colab": {
          "base_uri": "https://localhost:8080/"
        },
        "id": "4jitrZBJOa-n",
        "outputId": "dd6804f4-a379-4732-ddf9-77505d10cf47"
      },
      "outputs": [
        {
          "name": "stdout",
          "output_type": "stream",
          "text": [
            "Counter({6: 5000, 9: 5000, 4: 5000, 1: 5000, 2: 5000, 7: 5000, 8: 5000, 3: 5000, 5: 5000, 0: 5000})\n",
            "frog : 5000\n",
            "truck : 5000\n",
            "deer : 5000\n",
            "automobile : 5000\n",
            "bird : 5000\n",
            "horse : 5000\n",
            "ship : 5000\n",
            "cat : 5000\n",
            "dog : 5000\n",
            "airplane : 5000\n"
          ]
        }
      ],
      "source": [
        "from collections import Counter\n",
        "\n",
        "labels = [label for _, label in train]\n",
        "class_counts = Counter(labels)\n",
        "print(class_counts)\n",
        "class_counts.items()\n",
        "for cls, count in class_counts.items():\n",
        "    print(f\"{train.classes[cls]} : {count}\")"
      ]
    },
    {
      "cell_type": "code",
      "execution_count": null,
      "metadata": {
        "colab": {
          "base_uri": "https://localhost:8080/",
          "height": 241
        },
        "id": "1deLJrX0Oa-n",
        "outputId": "faa86792-7988-4757-a784-927fdd303e7d"
      },
      "outputs": [
        {
          "name": "stderr",
          "output_type": "stream",
          "text": [
            "Clipping input data to the valid range for imshow with RGB data ([0..1] for floats or [0..255] for integers).\n"
          ]
        },
        {
          "data": {
            "image/png": "[encoded data removed]",
            "text/plain": [
              "<Figure size 400x200 with 2 Axes>"
            ]
          },
          "metadata": {},
          "output_type": "display_data"
        }
      ],
      "source": [
        "transform_augment = transforms.Compose([\n",
        "    transforms.RandomHorizontalFlip(),\n",
        "    transforms.RandomCrop(32, padding=4),\n",
        "    transforms.ToTensor()\n",
        "])\n",
        "\n",
        "# Apply augmentation to a sample image\n",
        "augment_dataset = datasets.CIFAR10(root='./data', train=True, transform=transform_augment)\n",
        "aug_image, _ = augment_dataset[0]\n",
        "\n",
        "# Display original and augmented images\n",
        "fig, ax = plt.subplots(1, 2, figsize=(4, 2))\n",
        "ax[0].imshow(np.transpose(image.numpy(), (1, 2, 0)))\n",
        "ax[0].set_title(\"Original Image\")\n",
        "ax[1].imshow(np.transpose(aug_image.numpy(), (1, 2, 0)))\n",
        "ax[1].set_title(\"Augmented Image\")\n",
        "plt.show()\n"
      ]
    },
    {
      "cell_type": "code",
      "execution_count": null,
      "metadata": {
        "colab": {
          "base_uri": "https://localhost:8080/"
        },
        "id": "wz9SyW3aOa-n",
        "outputId": "d7da22dc-6961-47f2-8963-582c246cb9a8"
      },
      "outputs": [
        {
          "name": "stdout",
          "output_type": "stream",
          "text": [
            "Dataset statistics\n",
            "Shape :  (50000, 32, 32, 3)\n",
            "min :  0\n",
            "max : 255\n",
            "mean:  120.70756512369792\n",
            "variance :  64.1500758911213\n",
            "variance :  4115.232236836622\n"
          ]
        }
      ],
      "source": [
        "print(\"Dataset statistics\")\n",
        "print(\"Shape : \", train.data.shape)\n",
        "print(\"min : \", train.data.min().item())\n",
        "print(\"max :\", train.data.max().item())\n",
        "print(\"mean: \", train.data.mean())\n",
        "print(\"variance : \", train.data.std())\n",
        "print(\"variance : \", train.data.var())\n"
      ]
    },
    {
      "cell_type": "code",
      "execution_count": 18,
      "metadata": {
        "id": "-3iCQrGTOa-n"
      },
      "outputs": [],
      "source": [
        "dropout_value = 0.1\n",
        "# CNN Model\n",
        "class Net(nn.Module):\n",
        "    def __init__(self):\n",
        "        super(Net, self).__init__()\n",
        "\n",
        "        self.convblock1 = nn.Sequential(\n",
        "            #input size : 3x32x32\n",
        "            # Block - 1, Layer - 1\n",
        "            nn.Conv2d(in_channels=3, out_channels=16, kernel_size=(3, 3), stride=1, padding=1, bias=False),\n",
        "            nn.BatchNorm2d(16),\n",
        "            nn.ReLU(), # ouptput: 32, RF: 3\n",
        "            nn.Dropout(dropout_value),\n",
        "\n",
        "             # #Layer - 3\n",
        "            nn.Conv2d(in_channels=16, out_channels=32, kernel_size=(3, 3), stride=1, padding=1, bias=False),\n",
        "            nn.BatchNorm2d(32),\n",
        "            nn.ReLU(), # output: 32, RF: 7\n",
        "            nn.Dropout(dropout_value),\n",
        "\n",
        "            # Layer 2 - depthwise separable convolution\n",
        "            nn.Conv2d(in_channels=32, out_channels=32, kernel_size=(3, 3), stride=1, padding=1, groups=32),\n",
        "            nn.Conv2d(in_channels=32, out_channels=64, kernel_size=(1, 1), stride=1, padding=0),\n",
        "            nn.BatchNorm2d(64),\n",
        "            nn.ReLU(), #output: 32, RF: 5\n",
        "\n",
        "\n",
        "            # Stride-2 Convolution - downsampling\n",
        "            nn.Conv2d(in_channels=64, out_channels=64, kernel_size=(3, 3), stride=2, padding=1, bias=False),\n",
        "            nn.BatchNorm2d(64),\n",
        "            nn.ReLU(), # output: 16, RF: 9\n",
        "            nn.Dropout(dropout_value),\n",
        "        )\n",
        "\n",
        "        self.transition1 = nn.Sequential(\n",
        "            nn.Conv2d(in_channels=64, out_channels=16, kernel_size=(1, 1), padding=0, bias=False),\n",
        "            nn.BatchNorm2d(16),\n",
        "            nn.ReLU() #output : 16, RF:9\n",
        "        )\n",
        "        self.convblock2 = nn.Sequential(\n",
        "\n",
        "            #Block - 2, Layer - 1\n",
        "            nn.Conv2d(in_channels=16, out_channels=32, kernel_size=(3, 3), stride=1, padding=1, bias=False),\n",
        "            nn.BatchNorm2d(32),\n",
        "            nn.ReLU(), #output: 16, RF: 13\n",
        "            nn.Dropout(dropout_value),\n",
        "\n",
        "            # Block - 2, Layer - 2\n",
        "            nn.Conv2d(in_channels=32, out_channels=32, kernel_size=(3, 3), stride=1, padding=1, bias=False),\n",
        "            nn.BatchNorm2d(32),\n",
        "            nn.ReLU(), #output: 16, RF: 17\n",
        "            nn.Dropout(dropout_value),\n",
        "\n",
        "            # stride = 2 convolution downsampling\n",
        "            nn.Conv2d(in_channels=32, out_channels=64, kernel_size=(3, 3), stride=2, padding=1, bias=False),\n",
        "            nn.BatchNorm2d(64),\n",
        "            nn.ReLU(), #output: 8, RF: 21\n",
        "            nn.Dropout(dropout_value),\n",
        "        )\n",
        "\n",
        "        self.transition2 = nn.Sequential(\n",
        "            nn.Conv2d(in_channels=64, out_channels=16, kernel_size=(1, 1), padding=0, bias=False),\n",
        "            nn.BatchNorm2d(16),\n",
        "            nn.ReLU() #output:8, RF:21\n",
        "        )\n",
        "\n",
        "        self.convblock3 = nn.Sequential(\n",
        "\n",
        "            #Block - 3, Layer - 1\n",
        "\n",
        "            nn.Conv2d(in_channels=16, out_channels=32, kernel_size=(3, 3), stride=1, padding=1, bias=False),\n",
        "            nn.BatchNorm2d(32),\n",
        "            nn.ReLU(), #output: 8, RF: 29\n",
        "            nn.Dropout(dropout_value),\n",
        "\n",
        "            # Block - 3, Layer - 2\n",
        "            nn.Conv2d(in_channels=32, out_channels=64, kernel_size=(3, 3), stride=1, padding=1, bias=False),\n",
        "            nn.BatchNorm2d(64),\n",
        "            nn.ReLU(), #output: 8, RF: 37\n",
        "            nn.Dropout(dropout_value),\n",
        "\n",
        "             # Block - 3, Layer - 2 downsample here\n",
        "            nn.Conv2d(in_channels=64, out_channels=64, kernel_size=(3, 3), stride=2, padding=1, bias=False),\n",
        "            nn.BatchNorm2d(64),\n",
        "            nn.ReLU(), #output: 8, RF: 37\n",
        "            nn.Dropout(dropout_value),\n",
        "\n",
        "            # # dilated convolution here\n",
        "            # nn.Conv2d(in_channels=64, out_channels=64, kernel_size=(3, 3), stride=2, padding=2, dilation=2, bias=False),\n",
        "            # nn.BatchNorm2d(64),\n",
        "            # nn.ReLU(), #output: 8, RF: r_out = r_in + (k-1)*j_in = 37 + 4*4 = 53\n",
        "            # nn.Dropout(dropout_value),\n",
        "\n",
        "            # #Block - 3, stride-2 after dilation\n",
        "            # nn.Conv2d(in_channels=64, out_channels=64, kernel_size=(3, 3), stride=2, padding=1, bias=False),\n",
        "\n",
        "            #nn.BatchNorm2d(64),\n",
        "            #nn.ReLU(), #output: 4, RF: 61\n",
        "            #nn.Dropout(dropout_value),\n",
        "\n",
        "        )\n",
        "\n",
        "        self.transition3 = nn.Sequential(\n",
        "            nn.Conv2d(in_channels=64, out_channels=16, kernel_size=(1, 1), padding=0, bias=False),\n",
        "            nn.BatchNorm2d(16),\n",
        "            nn.ReLU()\n",
        "        )\n",
        "\n",
        "        self.convblock4 = nn.Sequential(\n",
        "\n",
        "            #Block - 4, Layer dilation\n",
        "            nn.Conv2d(in_channels=16, out_channels=64, kernel_size=(3, 3), stride=1, padding=2, dilation=2, bias=False),\n",
        "            nn.BatchNorm2d(64),\n",
        "            nn.ReLU(), #output: 4, RF: 59\n",
        "        )\n",
        "\n",
        "        self.outputblock = nn.Sequential(\n",
        "            nn.AdaptiveAvgPool2d(1),\n",
        "            #nn.AvgPool2d(kernel_size=4),\n",
        "            nn.Conv2d(in_channels=64, out_channels=10, kernel_size=(1, 1), padding=0, bias=False)\n",
        "        )\n",
        "\n",
        "\n",
        "\n",
        "    def forward(self, x):\n",
        "        x = self.convblock1(x)\n",
        "        x = self.transition1(x)\n",
        "        x = self.convblock2(x)\n",
        "        x = self.transition2(x)\n",
        "        x = self.convblock3(x)\n",
        "        x = self.transition3(x)\n",
        "        x = self.convblock4(x)\n",
        "        x = self.outputblock(x)\n",
        "        x = x.view(-1, 10)\n",
        "        return x\n"
      ]
    },
    {
      "cell_type": "code",
      "execution_count": 19,
      "metadata": {
        "colab": {
          "base_uri": "https://localhost:8080/"
        },
        "id": "bLTTgAB6Oa-o",
        "outputId": "117882f9-3e9a-4d17-f5b0-9a467b79f123"
      },
      "outputs": [
        {
          "output_type": "stream",
          "name": "stdout",
          "text": [
            "cuda\n",
            "----------------------------------------------------------------\n",
            "        Layer (type)               Output Shape         Param #\n",
            "================================================================\n",
            "            Conv2d-1           [-1, 16, 32, 32]             432\n",
            "       BatchNorm2d-2           [-1, 16, 32, 32]              32\n",
            "              ReLU-3           [-1, 16, 32, 32]               0\n",
            "           Dropout-4           [-1, 16, 32, 32]               0\n",
            "            Conv2d-5           [-1, 32, 32, 32]           4,608\n",
            "       BatchNorm2d-6           [-1, 32, 32, 32]              64\n",
            "              ReLU-7           [-1, 32, 32, 32]               0\n",
            "           Dropout-8           [-1, 32, 32, 32]               0\n",
            "            Conv2d-9           [-1, 32, 32, 32]             320\n",
            "           Conv2d-10           [-1, 64, 32, 32]           2,112\n",
            "      BatchNorm2d-11           [-1, 64, 32, 32]             128\n",
            "             ReLU-12           [-1, 64, 32, 32]               0\n",
            "           Conv2d-13           [-1, 64, 16, 16]          36,864\n",
            "      BatchNorm2d-14           [-1, 64, 16, 16]             128\n",
            "             ReLU-15           [-1, 64, 16, 16]               0\n",
            "          Dropout-16           [-1, 64, 16, 16]               0\n",
            "           Conv2d-17           [-1, 16, 16, 16]           1,024\n",
            "      BatchNorm2d-18           [-1, 16, 16, 16]              32\n",
            "             ReLU-19           [-1, 16, 16, 16]               0\n",
            "           Conv2d-20           [-1, 32, 16, 16]           4,608\n",
            "      BatchNorm2d-21           [-1, 32, 16, 16]              64\n",
            "             ReLU-22           [-1, 32, 16, 16]               0\n",
            "          Dropout-23           [-1, 32, 16, 16]               0\n",
            "           Conv2d-24           [-1, 32, 16, 16]           9,216\n",
            "      BatchNorm2d-25           [-1, 32, 16, 16]              64\n",
            "             ReLU-26           [-1, 32, 16, 16]               0\n",
            "          Dropout-27           [-1, 32, 16, 16]               0\n",
            "           Conv2d-28             [-1, 64, 8, 8]          18,432\n",
            "      BatchNorm2d-29             [-1, 64, 8, 8]             128\n",
            "             ReLU-30             [-1, 64, 8, 8]               0\n",
            "          Dropout-31             [-1, 64, 8, 8]               0\n",
            "           Conv2d-32             [-1, 16, 8, 8]           1,024\n",
            "      BatchNorm2d-33             [-1, 16, 8, 8]              32\n",
            "             ReLU-34             [-1, 16, 8, 8]               0\n",
            "           Conv2d-35             [-1, 32, 8, 8]           4,608\n",
            "      BatchNorm2d-36             [-1, 32, 8, 8]              64\n",
            "             ReLU-37             [-1, 32, 8, 8]               0\n",
            "          Dropout-38             [-1, 32, 8, 8]               0\n",
            "           Conv2d-39             [-1, 64, 8, 8]          18,432\n",
            "      BatchNorm2d-40             [-1, 64, 8, 8]             128\n",
            "             ReLU-41             [-1, 64, 8, 8]               0\n",
            "          Dropout-42             [-1, 64, 8, 8]               0\n",
            "           Conv2d-43             [-1, 64, 4, 4]          36,864\n",
            "      BatchNorm2d-44             [-1, 64, 4, 4]             128\n",
            "             ReLU-45             [-1, 64, 4, 4]               0\n",
            "          Dropout-46             [-1, 64, 4, 4]               0\n",
            "           Conv2d-47             [-1, 16, 4, 4]           1,024\n",
            "      BatchNorm2d-48             [-1, 16, 4, 4]              32\n",
            "             ReLU-49             [-1, 16, 4, 4]               0\n",
            "           Conv2d-50             [-1, 64, 4, 4]           9,216\n",
            "      BatchNorm2d-51             [-1, 64, 4, 4]             128\n",
            "             ReLU-52             [-1, 64, 4, 4]               0\n",
            "AdaptiveAvgPool2d-53             [-1, 64, 1, 1]               0\n",
            "           Conv2d-54             [-1, 10, 1, 1]             640\n",
            "================================================================\n",
            "Total params: 150,576\n",
            "Trainable params: 150,576\n",
            "Non-trainable params: 0\n",
            "----------------------------------------------------------------\n",
            "Input size (MB): 0.01\n",
            "Forward/backward pass size (MB): 4.74\n",
            "Params size (MB): 0.57\n",
            "Estimated Total Size (MB): 5.33\n",
            "----------------------------------------------------------------\n"
          ]
        }
      ],
      "source": [
        "from torchsummary import summary\n",
        "use_cuda = torch.cuda.is_available()\n",
        "cuda = torch.device(\"cuda\" if use_cuda else \"cpu\")\n",
        "print(cuda)\n",
        "model = Net().to(cuda)\n",
        "summary(model, input_size=(3, 32, 32))"
      ]
    },
    {
      "cell_type": "code",
      "execution_count": 23,
      "metadata": {
        "id": "hXbZ5K2COa-o"
      },
      "outputs": [],
      "source": [
        "from tqdm import tqdm\n",
        "\n",
        "train_losses = []\n",
        "test_losses = []\n",
        "train_acc = []\n",
        "test_acc = []\n",
        "\n",
        "def train(model, device, train_loader, optimizer, epoch):\n",
        "  model.train()\n",
        "  pbar = tqdm(train_loader)\n",
        "  correct = 0\n",
        "  processed = 0\n",
        "  for batch_idx, (data, target) in enumerate(pbar):\n",
        "    # get samples\n",
        "    data, target = data.to(device), target.to(device)\n",
        "\n",
        "    # Init\n",
        "    optimizer.zero_grad()\n",
        "    # In PyTorch, we need to set the gradients to zero before starting to do backpropragation because PyTorch accumulates the gradients on subsequent backward passes.\n",
        "    # Because of this, when you start your training loop, ideally you should zero out the gradients so that you do the parameter update correctly.\n",
        "\n",
        "    # Predict\n",
        "    y_pred = model(data)\n",
        "\n",
        "    # Calculate loss\n",
        "    criterion = nn.CrossEntropyLoss()\n",
        "    loss = criterion(y_pred, target)\n",
        "    #loss = F.nll_loss(y_pred, target)\n",
        "    train_losses.append(loss)\n",
        "\n",
        "    # Backpropagation\n",
        "    loss.backward()\n",
        "    optimizer.step()\n",
        "\n",
        "    # Update pbar-tqdm\n",
        "\n",
        "    pred = y_pred.argmax(dim=1, keepdim=True)  # get the index of the max log-probability\n",
        "    correct += pred.eq(target.view_as(pred)).sum().item()\n",
        "    processed += len(data)\n",
        "\n",
        "    pbar.set_description(desc= f'Loss={loss.item()} Batch_id={batch_idx} Accuracy={100*correct/processed:0.2f}')\n",
        "    train_acc.append(100*correct/processed)\n",
        "\n",
        "def test(model, device, test_loader):\n",
        "    model.eval()\n",
        "    test_loss = 0\n",
        "    correct = 0\n",
        "    criterion = nn.CrossEntropyLoss(reduction='sum')\n",
        "\n",
        "    with torch.no_grad():\n",
        "        for data, target in test_loader:\n",
        "            data, target = data.to(device), target.to(device)\n",
        "            output = model(data)\n",
        "            test_loss += criterion(output, target).item()\n",
        "            #test_loss += F.nll_loss(output, target, reduction='sum').item()  # sum up batch loss\n",
        "            pred = output.argmax(dim=1, keepdim=True)  # get the index of the max log-probability\n",
        "            correct += pred.eq(target.view_as(pred)).sum().item()\n",
        "\n",
        "    test_loss /= len(test_loader.dataset)\n",
        "    test_losses.append(test_loss)\n",
        "\n",
        "    print('\\nTest set: Average loss: {:.4f}, Accuracy: {}/{} ({:.2f}%)\\n'.format(\n",
        "        test_loss, correct, len(test_loader.dataset),\n",
        "        100. * correct / len(test_loader.dataset)))\n",
        "\n",
        "    test_acc.append(100. * correct / len(test_loader.dataset))"
      ]
    },
    {
      "cell_type": "code",
      "execution_count": null,
      "metadata": {
        "id": "GH_cfwoZOa-o"
      },
      "outputs": [],
      "source": []
    },
    {
      "cell_type": "code",
      "execution_count": null,
      "metadata": {
        "colab": {
          "base_uri": "https://localhost:8080/"
        },
        "id": "pszHAInXOa-o",
        "outputId": "16043021-24ea-4008-aa8f-d46db442da25"
      },
      "outputs": [
        {
          "output_type": "stream",
          "name": "stdout",
          "text": [
            "model running on:  cuda\n",
            "EPOCH: 1\n"
          ]
        },
        {
          "output_type": "stream",
          "name": "stderr",
          "text": [
            "Loss=1.7548264265060425 Batch_id=71 Accuracy=27.93:  18%|█▊        | 71/391 [00:02<00:12, 26.35it/s]"
          ]
        }
      ],
      "source": [
        "from torch.optim.lr_scheduler import StepLR\n",
        "\n",
        "print(\"model running on: \", device)\n",
        "log_table = PrettyTable()\n",
        "log_table.field_names = [\"Epoch\", \"Training Accuracy\", \"Test Accuracy\", \"Diff\", \"Training Loss\", \"Test Loss\"]\n",
        "\n",
        "model =  Net().to(device)\n",
        "#optimizer = optim.SGD(model.parameters(), lr=0.01, momentum=0.9)\n",
        "optimizer = optim.Adam(model.parameters(), lr=0.004)\n",
        "scheduler = StepLR(optimizer, step_size=10, gamma=0.1)\n",
        "\n",
        "EPOCHS = 30\n",
        "for epoch in range(EPOCHS):\n",
        "    print(\"EPOCH:\", epoch+1)\n",
        "    train(model, device, train_loader, optimizer, epoch)\n",
        "    #scheduler.step()\n",
        "    test(model, device, test_loader)\n",
        "    log_table.add_row([epoch+1, f\"{train_acc[-1]:.2f}%\", f\"{test_acc[-1]:.2f}%\", f\"{float(train_acc[-1]) - float(test_acc[-1]):.2f}\" ,f\"{train_losses[-1]:.4f}\", f\"{test_losses[-1]:.4f}\"])\n",
        "print(log_table)"
      ]
    },
    {
      "cell_type": "code",
      "source": [],
      "metadata": {
        "id": "0kqU8zfouC3n"
      },
      "execution_count": null,
      "outputs": []
    }
  ],
  "metadata": {
    "accelerator": "GPU",
    "colab": {
      "gpuType": "T4",
      "provenance": [],
      "include_colab_link": true
    },
    "kernelspec": {
      "display_name": "base",
      "language": "python",
      "name": "python3"
    },
    "language_info": {
      "codemirror_mode": {
        "name": "ipython",
        "version": 3
      },
      "file_extension": ".py",
      "mimetype": "text/x-python",
      "name": "python",
      "nbconvert_exporter": "python",
      "pygments_lexer": "ipython3",
      "version": "3.11.7"
    }
  },
  "nbformat": 4,
  "nbformat_minor": 0
}